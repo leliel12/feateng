{
 "cells": [
  {
   "cell_type": "markdown",
   "metadata": {},
   "source": [
    "Text\n",
    "====\n",
    "\n",
    "Text is a domain that exemplifies:\n",
    "\n",
    "* Large number of correlated features\n",
    "* A domain where ordering issues are important\n",
    "* Variable length feature vectors\n",
    "\n",
    "Among the methods exemplified in text we will see:\n",
    "\n",
    "* Feature selection: dimensionality reduction\n",
    "* Feature weighting: TF-IDF\n",
    "* Computable features: morphological features"
   ]
  },
  {
   "cell_type": "markdown",
   "metadata": {},
   "source": [
    "Example Data\n",
    "-------------\n",
    "\n",
    "We will be using a 2011 dump of StackOverflow. In particular, we will be using the dump for the stats discussion board.\n",
    "It is distributed as an XML file."
   ]
  },
  {
   "cell_type": "code",
   "execution_count": 9,
   "metadata": {
    "scrolled": true
   },
   "outputs": [
    {
     "name": "stdout",
     "output_type": "stream",
     "text": [
      "Total rows:  14193\n",
      "\n",
      "First row:  {'Id': '1', 'PostTypeId': '1', 'AcceptedAnswerId': '15', 'CreationDate': '2010-07-19T19:12:12.510', 'Score': '14', 'ViewCount': '388', 'Body': '<p>How should I elicit prior distributions from experts when fitting a Bayesian model?</p>\\n', 'OwnerUserId': '8', 'LastActivityDate': '2010-09-15T21:08:26.077', 'Title': 'Eliciting priors from experts', 'Tags': '<bayesian><prior><elicitation>', 'AnswerCount': '5', 'CommentCount': '1', 'FavoriteCount': '7'}\n",
      "\n",
      "Total questions:  4854\n",
      "\n",
      "First docs:  ['Eliciting priors from experts How should I elicit prior distributions from experts when fitting a Bayesian model?\\n', 'What is normality? In many different statistical methods there is an \"assumption of normality\".  What is \"normality\" and how do I know if there is normality?\\n', 'What are some valuable Statistical Analysis open source projects? What are some valuable Statistical Analysis open source projects available right now?\\n\\nEdit: as pointed out by Sharpie, valuable could mean helping you get things done faster or more cheaply.\\n', \"Assessing the significance of differences in distributions I have two groups of data.  Each with a different distribution of multiple variables.  I'm trying to determine if these two groups' distributions are different in a statistically significant way.  I have the data in both raw form and binned up in easier to deal with discrete categories with frequency counts in each.  \\n\\nWhat tests/procedures/methods should I use to determine whether or not these two groups are significantly different and how do I do that in SAS or R (or Orange)?\\n\", 'The Two Cultures: statistics vs. machine learning? Last year, I read a blog post from Bendan O\\'Connor entitled \"Statistics vs. Machine Learning, fight!\" that discussed some of the differences between the two fields.  Andrew Gelman responded to favorably to this:\\n\\nSimon Blomberg: \\n\\n\\n  From R\\'s fortunes\\n  package: To paraphrase provocatively,\\n  \\'machine learning is statistics minus\\n  any checking of models and\\n  assumptions\\'.\\n  -- Brian D. Ripley (about the difference between machine learning\\n  and statistics) useR! 2004, Vienna\\n  (May 2004) :-) Season\\'s Greetings!\\n\\n\\nAndrew Gelman:\\n\\n\\n  In that case, maybe we should get rid\\n  of checking of models and assumptions\\n  more often. Then maybe we\\'d be able to\\n  solve some of the problems that the\\n  machine learning people can solve but\\n  we can\\'t!\\n\\n\\nThere was also the \"Statistical Modeling: The Two Cultures\" paper by Leo Breiman in 2001 which argued that Statisticians rely too heavily on data modeling, and that machine learning techniques are making progress by instead relying on the predictive accuracy of models.\\n\\nHas the Statistics field changed over the last decade in response to these critiques?  Do the two cultures still exist or has Statistics grown to embrace machine learning techniques such as neural networks and support vector machines?\\n', \"Locating freely available data samples I've been working on a new method for analyzing and parsing datasets to identify and isolate subgroups of a population without foreknowledge of any subgroup's characteristics.  While the method works well enough with artificial data samples (i.e. datasets created specifically for the purpose of identifying and segregating subsets of the population), I'd like to try testing it with live data.\\n\\nWhat I'm looking for is a freely available (i.e. non-confidential, non-proprietary) data source.  Preferably one containing bimodal or multimodal distributions or being obviously comprised of multiple subsets that cannot be easily pulled apart via traditional means.  Where would I go to find such information?\\n\", 'So how many staticians *does* it take to screw in a lightbulb? Sorry, but the emptyness was a bit overwhelming. And this has been stuck in my head since it got asked at Area51!\\n', 'Under what conditions should Likert scales be used as ordinal or interval data? Many studies in the social sciences use Likert scales.  When is it appropriate to use Likert data as ordinal and when is it appropriate to use it as interval data?\\n', \"Multivariate Interpolation Approaches Is there a good, modern treatment covering the various methods of multivariate interpolation, including which methodologies are typically best for particular types of problems? I'm interested in a solid statistical treatment including error estimates under various model assumptions.\\n\\nAn example:\\n\\nShepard's method\\n\\nSay we're sampling from a multivariate normal distribution with unknown parameters. What can we say about the standard error of the interpolated estimates?\\n\\nI was hoping for a pointer to a general survey addressing similar questions for the various types of multivariate interpolations in common use. \\n\", 'How can I adapt ANOVA for binary data? I have four competing models which I use to predict a binary outcome variable (say, employment status after graduating, 1 = employed, 0 = not-employed) for n subjects. A natural metric of model performance is hit rate which is the percentage of correct predictions for each one of the models. \\n\\nIt seems to me that I cannot use ANOVA in this setting as the data violates the assumptions underlying ANOVA. Is there an equivalent procedure I could use instead of ANOVA in the above setting to test for the hypothesis that all four models are equally effective?\\n']\n",
      "\n",
      "First tags:  [['bayesian', 'prior', 'elicitation'], ['distributions', 'normality'], ['software', 'open-source'], ['distributions', 'statistical-significance'], ['machine-learning'], ['population', 'dataset', 'sample'], ['humor'], ['scales', 'measurement', 'ordinal', 'interval', 'likert'], ['multivariable', 'interpolation'], ['anova']]\n",
      "\n",
      "Total tags:  641\n",
      "\n",
      "Top tags:  [('r', 1000), ('regression', 504), ('time-series', 331), ('distributions', 291), ('machine-learning', 235), ('data-visualization', 217), ('probability', 203), ('correlation', 195), ('hypothesis-testing', 194), ('logistic-regression', 174), ('clustering', 160), ('bayesian', 156), ('anova', 140), ('statistical-significance', 121), ('confidence-interval', 121), ('modeling', 112), ('estimation', 106), ('mixed-model', 102), ('classification', 100), ('normal-distribution', 97)]\n"
     ]
    }
   ],
   "source": [
    "from lxml import etree\n",
    "import sys\n",
    "import re\n",
    "\n",
    "posts = etree.parse(\"posts.xml\")\n",
    "root = posts.getroot()\n",
    "rows = list(root.findall(\"./row\"))\n",
    "print(\"Total rows: \", len(rows))\n",
    "print(\"\\nFirst row: \", rows[0].attrib)\n",
    "questions = list(root.findall(\"./row[@PostTypeId=\\\"1\\\"]\"))\n",
    "print(\"\\nTotal questions: \", len(questions))\n",
    "tags = list(map(lambda r:r.get(\"Tags\").replace(\"<\",\"\").split(\">\")[:-1], questions))\n",
    "docs = list(map(lambda r:re.sub(\"<\\/?[^>]+>\",\"\",r.get(\"Title\") + \" \" + r.get(\"Body\")), questions))\n",
    "print(\"\\nFirst docs: \", docs[:10])\n",
    "print(\"\\nFirst tags: \", tags[:10])\n",
    "tag_counts = dict()\n",
    "for taglist in tags:\n",
    "    for tag in taglist:\n",
    "        tag_counts[tag] = tag_counts.get(tag, 0) + 1\n",
    "print(\"\\nTotal tags: \", len(tag_counts))\n",
    "sorted_tag_counts = sorted(list(tag_counts.items()),key=lambda t:t[1], reverse=True)\n",
    "print(\"\\nTop tags: \", sorted_tag_counts[:20])"
   ]
  },
  {
   "cell_type": "code",
   "execution_count": 10,
   "metadata": {},
   "outputs": [
    {
     "data": {
      "text/plain": [
       "[<matplotlib.lines.Line2D at 0x7f6f79f90358>]"
      ]
     },
     "execution_count": 10,
     "metadata": {},
     "output_type": "execute_result"
    },
    {
     "data": {
      "image/png": "[encoded data removed]",
      "text/plain": [
       "<Figure size 432x288 with 1 Axes>"
      ]
     },
     "metadata": {},
     "output_type": "display_data"
    }
   ],
   "source": [
    "import matplotlib.pyplot as plt\n",
    "%matplotlib inline\n",
    "plt.figure()\n",
    "plt.xticks(rotation=90)\n",
    "plt.plot(list(map(lambda r:r[0], sorted_tag_counts[:20])), list(map(lambda r:r[1], sorted_tag_counts[:20])))"
   ]
  },
  {
   "cell_type": "markdown",
   "metadata": {},
   "source": [
    "From the above, we will train two classifiers, one to tell questions related to _machine learning_ from the rest and another to tell questions related to _correlation_ from the rest.\n",
    "\n",
    "We will turn now to the first approach, a histogram over words known as \"BoW\" or \"Bag-of-Words\""
   ]
  },
  {
   "cell_type": "code",
   "execution_count": 11,
   "metadata": {},
   "outputs": [
    {
     "name": "stdout",
     "output_type": "stream",
     "text": [
      "Full train length:  3397\n",
      "Held out test length:  1457\n",
      "Train length:  2717\n",
      "DevTest length:  680\n"
     ]
    }
   ],
   "source": [
    "from sklearn.model_selection import train_test_split\n",
    "\n",
    "full_train_docs, test_docs, full_train_tags, test_tags = \\\n",
    "  train_test_split(docs, tags, test_size=0.3, random_state=42)\n",
    "train_docs, devtest_docs, train_tags, devtest_tags = \\\n",
    "  train_test_split(full_train_docs, full_train_tags, test_size=0.2, random_state=42)\n",
    "\n",
    "print(\"Full train length: \", len(full_train_docs))\n",
    "print(\"Held out test length: \", len(test_docs))\n",
    "print(\"Train length: \", len(train_docs))\n",
    "print(\"DevTest length: \", len(devtest_docs))"
   ]
  },
  {
   "cell_type": "markdown",
   "metadata": {},
   "source": [
    "Bag-of-words\n",
    "--------------\n",
    "\n",
    "The bag of words approach represents each document as a fixed size vector with size equals to the whole vocabulary (as computed on training).\n",
    "\n",
    "By far the most important function in a bag-of-words approach is the tokenization function. Good tokenization is key and it is language and subdomain specific (e.g., journalistic text vs. Twitter).\n"
   ]
  },
  {
   "cell_type": "code",
   "execution_count": 12,
   "metadata": {},
   "outputs": [
    {
     "name": "stdout",
     "output_type": "stream",
     "text": [
      "['Eliciting', 'priors', 'from', 'experts', 'How', 'should', 'I', 'elicit', 'prior', 'distributions', 'from', 'experts', 'when', 'fitting', 'a', 'Bayesian', 'model']\n"
     ]
    }
   ],
   "source": [
    "def tokenize(text):\n",
    "    return list(filter(lambda x:len(x)>0, \n",
    "                       re.sub('\\s+',' ', re.sub('[^A-z]', ' ', text)).split(' ')))\n",
    "\n",
    "print(tokenize(docs[0]))"
   ]
  },
  {
   "cell_type": "markdown",
   "metadata": {},
   "source": [
    "### Word classes vs. word tokens\n",
    "\n",
    "When operating with documents and vocabularies, it is important to distinguish the vocabulary size vs. the total document sizes. Both are measured in \"words\" but the term \"word\" means different things in each case. Therefore, in NLP we use the terms \"word types\" to refers to dictionary entries and \"word tokens\" to refer to document entries. You can think of the word types as a class in object oriented programming and a word token as an instance of the class.\n",
    "\n",
    "We can now assemble the baseline system, where we are using BoW over the whole documents in the trainset. Because the vocabulary is fixed in the trainset, there will be many words missing in the devset. That is when smoothing techniques (like Good-Turing's smoothing) come handy."
   ]
  },
  {
   "cell_type": "code",
   "execution_count": 13,
   "metadata": {},
   "outputs": [
    {
     "name": "stdout",
     "output_type": "stream",
     "text": [
      "Vocabulary size:  17873\n",
      "\n",
      "I:  2091\n",
      "the:  16503\n",
      "The:  4612\n",
      "Bayesian:  451\n"
     ]
    }
   ],
   "source": [
    "tokenized_train_docs = list(map(tokenize, train_docs))\n",
    "vocabulary = set([token for document in tokenized_train_docs for token in document])\n",
    "sorted_vocabulary = sorted(list(vocabulary))\n",
    "vocab_size = len(sorted_vocabulary)\n",
    "word2pos = { w: i for i, w in enumerate(sorted_vocabulary) }\n",
    "print(\"Vocabulary size: \", vocab_size)\n",
    "\n",
    "print(\"\\nI: \", word2pos['I'])\n",
    "print(\"the: \", word2pos['the'])\n",
    "print(\"The: \", word2pos['The'])\n",
    "print(\"Bayesian: \", word2pos['Bayesian'])"
   ]
  },
  {
   "cell_type": "code",
   "execution_count": 14,
   "metadata": {},
   "outputs": [],
   "source": [
    "import numpy as np\n",
    "xtrain = np.zeros((len(train_docs), vocab_size), dtype='float32')\n",
    "ytrain_ml = np.zeros((len(train_docs),), dtype='float32')\n",
    "ytrain_corr = np.zeros((len(train_docs),), dtype='float32')\n",
    "\n",
    "for idx, toks in enumerate(tokenized_train_docs):\n",
    "    for tok in toks:\n",
    "        xtrain[idx][word2pos[tok]] += 1\n",
    "    if 'correlation' in train_tags[idx]:\n",
    "        ytrain_corr[idx] = 1.0\n",
    "    if 'machine-learning' in train_tags[idx]:\n",
    "        ytrain_ml[idx] = 1.0"
   ]
  },
  {
   "cell_type": "code",
   "execution_count": 15,
   "metadata": {},
   "outputs": [
    {
     "data": {
      "text/plain": [
       "SVC(C=1.0, cache_size=200, class_weight=None, coef0=0.0,\n",
       "  decision_function_shape='ovr', degree=3, gamma='auto', kernel='linear',\n",
       "  max_iter=-1, probability=False, random_state=None, shrinking=True,\n",
       "  tol=0.001, verbose=False)"
      ]
     },
     "execution_count": 15,
     "metadata": {},
     "output_type": "execute_result"
    }
   ],
   "source": [
    "from sklearn import svm\n",
    "\n",
    "clf_corr = svm.SVC(kernel='linear')\n",
    "clf_corr.fit(xtrain, ytrain_corr)\n",
    "\n",
    "clf_ml = svm.SVC(kernel='linear')\n",
    "clf_ml.fit(xtrain, ytrain_ml)"
   ]
  },
  {
   "cell_type": "code",
   "execution_count": 16,
   "metadata": {},
   "outputs": [
    {
     "name": "stdout",
     "output_type": "stream",
     "text": [
      "[CORR on Training] Prec  [1. 1.] Rec [1. 1.] F1 [1. 1.]\n",
      "[ML on Training] Prec  [1. 1.] Rec [1. 1.] F1 [1. 1.]\n",
      "[ML on Training Corr] Prec  [0.94712644 0.00934579] Rec [0.95888285 0.00719424] F1 [0.95296839 0.00813008]\n",
      "[CORR on Training ML] Prec  [0.95888285 0.00719424] Rec [0.94712644 0.00934579] F1 [0.95296839 0.00813008]\n"
     ]
    }
   ],
   "source": [
    "from sklearn.metrics import precision_recall_fscore_support\n",
    "\n",
    "ytrain_pred_corr = clf_corr.predict(xtrain)\n",
    "prec, rec, f1, _ = precision_recall_fscore_support(ytrain_corr, ytrain_pred_corr)\n",
    "\n",
    "print(\"[CORR on Training] Prec \", prec, \"Rec\", rec, \"F1\", f1)\n",
    "\n",
    "ytrain_pred_ml = clf_ml.predict(xtrain)\n",
    "prec, rec, f1, _ = precision_recall_fscore_support(ytrain_ml, ytrain_pred_ml)\n",
    "\n",
    "print(\"[ML on Training] Prec \", prec, \"Rec\", rec, \"F1\", f1)\n",
    "\n",
    "prec, rec, f1, _ = precision_recall_fscore_support(ytrain_ml, ytrain_pred_corr)\n",
    "print(\"[ML on Training Corr] Prec \", prec, \"Rec\", rec, \"F1\", f1)\n",
    "\n",
    "prec, rec, f1, _ = precision_recall_fscore_support(ytrain_corr, ytrain_pred_ml)\n",
    "print(\"[CORR on Training ML] Prec \", prec, \"Rec\", rec, \"F1\", f1)"
   ]
  },
  {
   "cell_type": "code",
   "execution_count": 17,
   "metadata": {},
   "outputs": [],
   "source": [
    "tokenized_devtest_docs = list(map(tokenize, devtest_docs))\n",
    "\n",
    "xdevtest = np.zeros((len(devtest_docs), vocab_size), dtype='float32')\n",
    "ydevtest_corr = np.zeros((len(devtest_docs),), dtype='float32')\n",
    "ydevtest_ml = np.zeros((len(devtest_docs),), dtype='float32')\n",
    "\n",
    "for idx, toks in enumerate(tokenized_devtest_docs):\n",
    "    for tok in toks:\n",
    "        if tok in word2pos:\n",
    "            xdevtest[idx][word2pos[tok]] += 1\n",
    "    if 'correlation' in devtest_tags[idx]:\n",
    "        ydevtest_corr[idx] = 1.0\n",
    "    if 'machine-learning' in train_tags[idx]:\n",
    "        ydevtest_ml[idx] = 1.0"
   ]
  },
  {
   "cell_type": "code",
   "execution_count": 18,
   "metadata": {
    "scrolled": true
   },
   "outputs": [
    {
     "name": "stdout",
     "output_type": "stream",
     "text": [
      "[CORR on DevTest] Prec  [0.97268589 0.61904762] Rec [0.98767334 0.41935484] F1 [0.98012232 0.5       ]\n",
      "[ML on DevTest] Prec  [0.95440729 0.04545455] Rec [0.96764253 0.03225806] F1 [0.96097934 0.03773585]\n",
      "[ML on DevTest Corr] Prec  [0.95447648 0.04761905] Rec [0.96918336 0.03225806] F1 [0.9617737  0.03846154]\n",
      "[CORR on DevTest ML] Prec  [0.95288754 0.        ] Rec [0.96610169 0.        ] F1 [0.95944912 0.        ]\n"
     ]
    }
   ],
   "source": [
    "ydevtest_pred_corr = clf_corr.predict(xdevtest)\n",
    "prec, rec, f1, _ = precision_recall_fscore_support(ydevtest_corr, ydevtest_pred_corr)\n",
    "\n",
    "print(\"[CORR on DevTest] Prec \", prec, \"Rec\", rec, \"F1\", f1)\n",
    "\n",
    "ydevtest_pred_ml = clf_ml.predict(xdevtest)\n",
    "prec, rec, f1, _ = precision_recall_fscore_support(ydevtest_ml, ydevtest_pred_ml)\n",
    "\n",
    "print(\"[ML on DevTest] Prec \", prec, \"Rec\", rec, \"F1\", f1)\n",
    "\n",
    "prec, rec, f1, _ = precision_recall_fscore_support(ydevtest_ml, ydevtest_pred_corr)\n",
    "print(\"[ML on DevTest Corr] Prec \", prec, \"Rec\", rec, \"F1\", f1)\n",
    "\n",
    "prec, rec, f1, _ = precision_recall_fscore_support(ydevtest_corr, ydevtest_pred_ml)\n",
    "print(\"[CORR on DevTest ML] Prec \", prec, \"Rec\", rec, \"F1\", f1)"
   ]
  },
  {
   "cell_type": "markdown",
   "metadata": {},
   "source": [
    "### TF\\*IDF\n",
    "\n",
    "Instead of using raw counts, we can perform a traditional feature weighting employed in NLP/IR: adjust the counts by the inverse of the frequency of the word type over the corpus.\n",
    "\n",
    "Therefore, we replace the Term Frequency (term is synonym with word type in IR) in the document with the TF times the Inverse Document Frequency (IDF). To have more informed statistics, we can compute the IDF counts on a larger set (e.g., Wikipedia or in our case, the whole StackOverflow dump). In this example we will use the train set."
   ]
  },
  {
   "cell_type": "code",
   "execution_count": 19,
   "metadata": {},
   "outputs": [
    {
     "name": "stdout",
     "output_type": "stream",
     "text": [
      "IDF 'the':  0.7368839286692329\n",
      "IDF 'Bayesian':  3.771682770874293\n"
     ]
    }
   ],
   "source": [
    "import math\n",
    "\n",
    "df = { tok: 0 for tok in vocabulary }\n",
    "for toks in tokenized_train_docs:\n",
    "    tokset = set(toks)\n",
    "    for tok in tokset:\n",
    "        df[tok] += 1\n",
    "idf = dict()\n",
    "for tok, count in df.items():\n",
    "    idf[tok] = math.log(1.0 + len(train_docs) / count)\n",
    "\n",
    "print(\"IDF 'the': \", idf['the'])\n",
    "print(\"IDF 'Bayesian': \", idf['Bayesian'])"
   ]
  },
  {
   "cell_type": "code",
   "execution_count": 20,
   "metadata": {},
   "outputs": [
    {
     "name": "stdout",
     "output_type": "stream",
     "text": [
      "[CORR IDF on DevTest] Prec  [0.97272727 0.65      ] Rec [0.98921418 0.41935484] F1 [0.98090145 0.50980392]\n",
      "[ML IDF on DevTest] Prec  [0.95468278 0.05555556] Rec [0.97380586 0.03225806] F1 [0.9641495  0.04081633]\n"
     ]
    }
   ],
   "source": [
    "xtrain_idf = np.zeros((len(train_docs), vocab_size), dtype='float32')\n",
    "\n",
    "for idx, toks in enumerate(tokenized_train_docs):\n",
    "    for tok in toks:\n",
    "        xtrain_idf[idx][word2pos[tok]] += idf[tok]\n",
    "# in practice, make a IDF vector and multiply xtrain instead\n",
    "# or use scikit-learn TfidfVectorizer\n",
    "\n",
    "\n",
    "clf_idf_corr = svm.SVC(kernel='linear')\n",
    "clf_idf_corr.fit(xtrain_idf, ytrain_corr)\n",
    "\n",
    "clf_idf_ml = svm.SVC(kernel='linear')\n",
    "clf_idf_ml.fit(xtrain_idf, ytrain_ml)\n",
    "\n",
    "xdevtest_idf = np.zeros((len(devtest_docs), vocab_size), dtype='float32')\n",
    "\n",
    "for idx, toks in enumerate(tokenized_devtest_docs):\n",
    "    for tok in toks:\n",
    "        if tok in word2pos:\n",
    "            xdevtest_idf[idx][word2pos[tok]] += idf[tok]\n",
    "\n",
    "ydevtest_pred_idf_corr = clf_idf_corr.predict(xdevtest_idf)\n",
    "prec, rec, f1, _ = precision_recall_fscore_support(ydevtest_corr, ydevtest_pred_idf_corr)\n",
    "\n",
    "print(\"[CORR IDF on DevTest] Prec \", prec, \"Rec\", rec, \"F1\", f1)\n",
    "\n",
    "ydevtest_pred_idf_ml = clf_idf_ml.predict(xdevtest_idf)\n",
    "prec, rec, f1, _ = precision_recall_fscore_support(ydevtest_ml, ydevtest_pred_idf_ml)\n",
    "\n",
    "print(\"[ML IDF on DevTest] Prec \", prec, \"Rec\", rec, \"F1\", f1)"
   ]
  },
  {
   "cell_type": "markdown",
   "metadata": {},
   "source": [
    "Given the size of the data, TF-IDF does not help in this case."
   ]
  },
  {
   "cell_type": "markdown",
   "metadata": {},
   "source": [
    "Morphological features\n",
    "-------------------------\n",
    "\n",
    "In some domains, it is useful to reduce the number of features by dropping the morphological variants for different words. For example, if we believe the word _prior_ is useful in our domain, its plural variant _priors_ might be equally useful but more rare. If we conflate both terms as the same feature, we could obtain better performance.\n",
    "\n",
    "Larger text samples are needed to profit from this approach, though.\n",
    "\n",
    "To obtain morphological roots for words, we can use a dictionary of root forms (a \"lemmatizer\" approach) or we can use simple approximation (a \"stemmer\" approach). \n",
    "\n",
    "We will use a stemming approach using an implementation of the Porter stemmer. "
   ]
  },
  {
   "cell_type": "code",
   "execution_count": 23,
   "metadata": {},
   "outputs": [
    {
     "name": "stdout",
     "output_type": "stream",
     "text": [
      "['Eliciting', 'priors', 'from', 'experts', 'How', 'should', 'I', 'elicit', 'prior', 'distributions', 'from', 'experts', 'when', 'fitting', 'a', 'Bayesian', 'model']\n",
      "['Elicit', 'prior', 'from', 'expert', 'How', 'should', 'I', 'elicit', 'prior', 'distribut', 'from', 'expert', 'when', 'fit', 'a', 'Bayesian', 'model']\n"
     ]
    }
   ],
   "source": [
    "from stemming.porter2 import stem as porter_stem\n",
    "\n",
    "def tokenize_and_stem(text):\n",
    "    return list(map(porter_stem, tokenize(text)))\n",
    "\n",
    "print(tokenize(docs[0]))\n",
    "print(tokenize_and_stem(docs[0]))"
   ]
  },
  {
   "cell_type": "code",
   "execution_count": 24,
   "metadata": {},
   "outputs": [
    {
     "name": "stdout",
     "output_type": "stream",
     "text": [
      "Vocabulary size:  17873\n",
      "Stemmed Vocabulary size:  13125\n",
      "\n",
      "I:  1822\n",
      "the:  12076\n",
      "Bayesian:  401\n"
     ]
    }
   ],
   "source": [
    "stemmed_train_docs = list(map(tokenize_and_stem, train_docs))\n",
    "stemmed_vocabulary = set([token for document in stemmed_train_docs for token in document])\n",
    "sorted_stemmed_vocabulary = sorted(list(stemmed_vocabulary))\n",
    "stemmed_vocab_size = len(sorted_stemmed_vocabulary)\n",
    "stem2pos = { s: i for i, s in enumerate(sorted_stemmed_vocabulary) }\n",
    "print(\"Vocabulary size: \", vocab_size)\n",
    "print(\"Stemmed Vocabulary size: \", stemmed_vocab_size)\n",
    "\n",
    "print(\"\\nI: \", stem2pos['I'])\n",
    "print(\"the: \", stem2pos['the'])\n",
    "print(\"Bayesian: \", stem2pos['Bayesian'])"
   ]
  },
  {
   "cell_type": "code",
   "execution_count": 25,
   "metadata": {},
   "outputs": [
    {
     "name": "stdout",
     "output_type": "stream",
     "text": [
      "[CORR Stem on DevTest] Prec  [0.97720365 0.72727273] Rec [0.99075501 0.51612903] F1 [0.98393267 0.60377358]\n",
      "[ML Stem on DevTest] Prec  [0.95426829 0.04166667] Rec [0.96456086 0.03225806] F1 [0.95938697 0.03636364]\n"
     ]
    }
   ],
   "source": [
    "xtrain_stem = np.zeros((len(train_docs), stemmed_vocab_size), dtype='float32')\n",
    "\n",
    "for idx, stems in enumerate(stemmed_train_docs):\n",
    "    for stem in stems:\n",
    "        xtrain_stem[idx][stem2pos[stem]] += 1\n",
    "\n",
    "clf_stem_corr = svm.SVC(kernel='linear')\n",
    "clf_stem_corr.fit(xtrain_stem, ytrain_corr)\n",
    "\n",
    "clf_stem_ml = svm.SVC(kernel='linear')\n",
    "clf_stem_ml.fit(xtrain_stem, ytrain_ml)\n",
    "\n",
    "stemmed_devtest_docs = list(map(tokenize_and_stem, devtest_docs))\n",
    "xdevtest_stem = np.zeros((len(devtest_docs), stemmed_vocab_size), dtype='float32')\n",
    "\n",
    "for idx, stems in enumerate(stemmed_devtest_docs):\n",
    "    for stem in stems:\n",
    "        if stem in stem2pos:\n",
    "            xdevtest_stem[idx][stem2pos[stem]] += 1\n",
    "\n",
    "ydevtest_pred_stem_corr = clf_stem_corr.predict(xdevtest_stem)\n",
    "prec, rec, f1, _ = precision_recall_fscore_support(ydevtest_corr, ydevtest_pred_stem_corr)\n",
    "\n",
    "print(\"[CORR Stem on DevTest] Prec \", prec, \"Rec\", rec, \"F1\", f1)\n",
    "\n",
    "ydevtest_pred_stem_ml = clf_stem_ml.predict(xdevtest_stem)\n",
    "prec, rec, f1, _ = precision_recall_fscore_support(ydevtest_ml, ydevtest_pred_stem_ml)\n",
    "\n",
    "print(\"[ML Stem on DevTest] Prec \", prec, \"Rec\", rec, \"F1\", f1)"
   ]
  },
  {
   "cell_type": "markdown",
   "metadata": {},
   "source": [
    "In this dataset, stemming helps a little bit in one category but hurts in the other. Still, the variations are very small and probably not statistically significant."
   ]
  },
  {
   "cell_type": "markdown",
   "metadata": {},
   "source": [
    "Words in context\n",
    "------------------\n",
    "\n",
    "To incorporate some ordering among the words, a common technique is to use bigrams, pairs of words in order. If we were ot use bigrams directly, this will increase the vocabulary size quite a bit. We will combine bigrams with feature hashing to reduce the number of bigrams to a manageable size.\n",
    "\n",
    "Let's first compute the total vocabulary size for all bigrams on the trainset."
   ]
  },
  {
   "cell_type": "code",
   "execution_count": 26,
   "metadata": {},
   "outputs": [
    {
     "name": "stdout",
     "output_type": "stream",
     "text": [
      "Total bigram count:  161583\n"
     ]
    }
   ],
   "source": [
    "all_bigrams = set([])\n",
    "\n",
    "for toks in tokenized_train_docs:\n",
    "    for idx in range(0,len(toks)):\n",
    "        next_tok = \"[PAD]\"\n",
    "        if idx < len(toks) - 1:\n",
    "            next_tok = toks[idx+1]\n",
    "        bigram = \"%s-%s\" % (toks[idx], next_tok)\n",
    "        all_bigrams.add(bigram)\n",
    "        \n",
    "print(\"Total bigram count: \", len(all_bigrams))"
   ]
  },
  {
   "cell_type": "markdown",
   "metadata": {},
   "source": [
    "For hashing function, we will use Python's buit-in hashing function"
   ]
  },
  {
   "cell_type": "code",
   "execution_count": 27,
   "metadata": {},
   "outputs": [
    {
     "name": "stdout",
     "output_type": "stream",
     "text": [
      "1064118075059930475\n",
      "1064118075059930475\n",
      "475\n"
     ]
    }
   ],
   "source": [
    "print(hash(\"a-b\"))\n",
    "print(hash(\"%s-%s\" % (\"a\",\"b\")))\n",
    "\n",
    "hashed_size = 10000\n",
    "\n",
    "def custom_hash(x):\n",
    "    return abs(hash(x)) % hashed_size \n",
    "    \n",
    "print(custom_hash(\"a-b\"))"
   ]
  },
  {
   "cell_type": "code",
   "execution_count": 28,
   "metadata": {},
   "outputs": [
    {
     "name": "stdout",
     "output_type": "stream",
     "text": [
      "[CORR Bigram on DevTest] Prec  [0.96290801 1.        ] Rec [1.         0.19354839] F1 [0.98110355 0.32432432]\n",
      "[ML Bigram on DevTest] Prec  [0.95529061 0.11111111] Rec [0.98767334 0.03225806] F1 [0.97121212 0.05      ]\n"
     ]
    }
   ],
   "source": [
    "xtrain_bigram = np.zeros((len(train_docs), hashed_size), dtype='float32')\n",
    "\n",
    "for idx_doc, toks in enumerate(tokenized_train_docs):\n",
    "    for idx in range(0,len(toks)):\n",
    "        next_tok = \"[PAD]\"\n",
    "        if idx < len(toks) - 1:\n",
    "            next_tok = toks[idx+1]\n",
    "        bigram = \"%s-%s\" % (toks[idx], next_tok)\n",
    "        xtrain_bigram[idx_doc][custom_hash(bigram)] += 1\n",
    "\n",
    "clf_bigram_corr = svm.SVC(kernel='linear')\n",
    "clf_bigram_corr.fit(xtrain_bigram, ytrain_corr)\n",
    "\n",
    "clf_bigram_ml = svm.SVC(kernel='linear')\n",
    "clf_bigram_ml.fit(xtrain_bigram, ytrain_ml)\n",
    "\n",
    "xdevtest_bigram = np.zeros((len(devtest_docs), hashed_size), dtype='float32')\n",
    "\n",
    "for idx_doc, toks in enumerate(tokenized_devtest_docs):\n",
    "    for idx in range(0,len(toks)):\n",
    "        next_tok = \"[PAD]\"\n",
    "        if idx < len(toks) - 1:\n",
    "            next_tok = toks[idx+1]\n",
    "        bigram = \"%s-%s\" % (toks[idx], next_tok)\n",
    "        xdevtest_bigram[idx_doc][custom_hash(bigram)] += 1\n",
    "\n",
    "ydevtest_pred_bigram_corr = clf_bigram_corr.predict(xdevtest_bigram)\n",
    "prec, rec, f1, _ = precision_recall_fscore_support(ydevtest_corr, ydevtest_pred_bigram_corr)\n",
    "\n",
    "print(\"[CORR Bigram on DevTest] Prec \", prec, \"Rec\", rec, \"F1\", f1)\n",
    "\n",
    "ydevtest_pred_bigram_ml = clf_bigram_ml.predict(xdevtest_bigram)\n",
    "prec, rec, f1, _ = precision_recall_fscore_support(ydevtest_ml, ydevtest_pred_bigram_ml)\n",
    "\n",
    "print(\"[ML Bigram on DevTest] Prec \", prec, \"Rec\", rec, \"F1\", f1)"
   ]
  },
  {
   "cell_type": "markdown",
   "metadata": {},
   "source": [
    "It improves on _machine learning_ but it hurts on _correlation_. There is no free lunch."
   ]
  },
  {
   "cell_type": "markdown",
   "metadata": {},
   "source": [
    "Taboo features (stop words)\n",
    "-------------------------------\n",
    "\n",
    "A common feature selection technique in natural language processing is to drop a small set of highly frequent function words with little semantic content for classification tasks. This is called \"stop word removal\", an approach shared with information retrieval. We will use the [snowball list of stopwords](http://snowball.tartarus.org/algorithms/english/stop.txt)."
   ]
  },
  {
   "cell_type": "code",
   "execution_count": 29,
   "metadata": {},
   "outputs": [
    {
     "name": "stdout",
     "output_type": "stream",
     "text": [
      "['Eliciting', 'priors', 'from', 'experts', 'How', 'should', 'I', 'elicit', 'prior', 'distributions', 'from', 'experts', 'when', 'fitting', 'a', 'Bayesian', 'model']\n",
      "['Eliciting', 'priors', 'experts', 'elicit', 'prior', 'distributions', 'experts', 'fitting', 'Bayesian', 'model']\n"
     ]
    }
   ],
   "source": [
    "stopwords = set([\"i\",\"me\",\"my\",\"myself\",\"we\",\"our\",\"ours\",\"ourselves\",\"you\",\"your\",\"yours\",\"yourself\",\"yourselves\",\n",
    "                 \"he\",\"him\",\"his\",\"himself\",\"she\",\"her\",\"hers\",\"herself\",\"it\",\"its\",\"itself\",\"they\",\"them\",\"their\",\n",
    "                 \"theirs\",\"themselves\",\"what\",\"which\",\"who\",\"whom\",\"this\",\"that\",\"these\",\"those\",\"am\",\"is\",\"are\",\"was\",\n",
    "                 \"were\",\"be\",\"been\",\"being\",\"have\",\"has\",\"had\",\"having\",\"do\",\"does\",\"did\",\"doing\",\"would\",\"should\",\n",
    "                 \"could\",\"ought\",\"i'm\",\"you're\",\"he's\",\"she's\",\"it's\",\"we're\",\"they're\",\"i've\",\"you've\",\"we've\",\n",
    "                 \"they've\",\"i'd\",\"you'd\",\"he'd\",\"she'd\",\"we'd\",\"they'd\",\"i'll\",\"you'll\",\"he'll\",\"she'll\",\"we'll\",\n",
    "                 \"they'll\",\"isn't\",\"aren't\",\"wasn't\",\"weren't\",\"hasn't\",\"haven't\",\"hadn't\",\"doesn't\",\"don't\",\n",
    "                 \"didn't\",\"won't\",\"wouldn't\",\"shan't\",\"shouldn't\",\"can't\",\"cannot\",\"couldn't\",\"mustn't\",\"let's\",\n",
    "                 \"that's\",\"who's\",\"what's\",\"here's\",\"there's\",\"when's\",\"where's\",\"why's\",\"how's\",\"a\",\"an\",\"the\",\n",
    "                 \"and\",\"but\",\"if\",\"or\",\"because\",\"as\",\"until\",\"while\",\"of\",\"at\",\"by\",\"for\",\"with\",\"about\",\"against\",\n",
    "                 \"between\",\"into\",\"through\",\"during\",\"before\",\"after\",\"above\",\"below\",\"to\",\"from\",\"up\",\"down\",\"in\",\n",
    "                 \"out\",\"on\",\"off\",\"over\",\"under\",\"again\",\"further\",\"then\",\"once\",\"here\",\"there\",\"when\",\"where\",\"why\",\n",
    "                 \"how\",\"all\",\"any\",\"both\",\"each\",\"few\",\"more\",\"most\",\"other\",\"some\",\"such\",\"no\",\"nor\",\"not\",\"only\",\n",
    "                 \"own\",\"same\",\"so\",\"than\",\"too\",\"very\"])\n",
    "def tokenize_and_filter_sb(text):\n",
    "    return list(filter(lambda tok: tok.lower() not in stopwords, tokenize(text)))\n",
    "\n",
    "print(tokenize(docs[0]))\n",
    "print(tokenize_and_filter_sb(docs[0]))"
   ]
  },
  {
   "cell_type": "code",
   "execution_count": 30,
   "metadata": {},
   "outputs": [
    {
     "name": "stdout",
     "output_type": "stream",
     "text": [
      "Vocabulary size:  17873\n",
      "Cleaned Vocabulary size:  17616\n",
      "\n",
      "I:  NOT FOUND\n",
      "the:  NOT FOUND\n",
      "Bayesian:  429\n"
     ]
    }
   ],
   "source": [
    "cleaned_train_docs = list(map(tokenize_and_filter_sb, train_docs))\n",
    "cleaned_vocabulary = set([token for document in cleaned_train_docs for token in document])\n",
    "sorted_cleaned_vocabulary = sorted(list(cleaned_vocabulary))\n",
    "cleaned_vocab_size = len(sorted_cleaned_vocabulary)\n",
    "clean2pos = { s: i for i, s in enumerate(sorted_cleaned_vocabulary) }\n",
    "print(\"Vocabulary size: \", vocab_size)\n",
    "print(\"Cleaned Vocabulary size: \", cleaned_vocab_size)\n",
    "\n",
    "print(\"\\nI: \", clean2pos.get(\"I\",\"NOT FOUND\"))\n",
    "print(\"the: \", clean2pos.get('the',\"NOT FOUND\"))\n",
    "print(\"Bayesian: \", clean2pos['Bayesian'])"
   ]
  },
  {
   "cell_type": "code",
   "execution_count": 31,
   "metadata": {},
   "outputs": [
    {
     "name": "stdout",
     "output_type": "stream",
     "text": [
      "[CORR SB on DevTest] Prec  [0.97408537 0.58333333] Rec [0.98459168 0.4516129 ] F1 [0.97931034 0.50909091]\n",
      "[ML SB on DevTest] Prec  [0.9543379  0.04347826] Rec [0.96610169 0.03225806] F1 [0.96018377 0.03703704]\n"
     ]
    }
   ],
   "source": [
    "xtrain_clean = np.zeros((len(train_docs), cleaned_vocab_size), dtype='float32')\n",
    "\n",
    "for idx, toks in enumerate(cleaned_train_docs):\n",
    "    for tok in toks:\n",
    "        xtrain_clean[idx][clean2pos[tok]] += 1\n",
    "\n",
    "clf_clean_corr = svm.SVC(kernel='linear')\n",
    "clf_clean_corr.fit(xtrain_clean, ytrain_corr)\n",
    "\n",
    "clf_clean_ml = svm.SVC(kernel='linear')\n",
    "clf_clean_ml.fit(xtrain_clean, ytrain_ml)\n",
    "\n",
    "cleaned_devtest_docs = list(map(tokenize_and_filter_sb, devtest_docs))\n",
    "xdevtest_clean = np.zeros((len(devtest_docs), cleaned_vocab_size), dtype='float32')\n",
    "\n",
    "for idx, toks in enumerate(cleaned_devtest_docs):\n",
    "    for tok in toks:\n",
    "        if tok in clean2pos:\n",
    "            xdevtest_clean[idx][clean2pos[tok]] += 1\n",
    "\n",
    "ydevtest_pred_clean_corr = clf_clean_corr.predict(xdevtest_clean)\n",
    "prec, rec, f1, _ = precision_recall_fscore_support(ydevtest_corr, ydevtest_pred_clean_corr)\n",
    "\n",
    "print(\"[CORR SB on DevTest] Prec \", prec, \"Rec\", rec, \"F1\", f1)\n",
    "\n",
    "ydevtest_pred_clean_ml = clf_clean_ml.predict(xdevtest_clean)\n",
    "prec, rec, f1, _ = precision_recall_fscore_support(ydevtest_ml, ydevtest_pred_clean_ml)\n",
    "\n",
    "print(\"[ML SB on DevTest] Prec \", prec, \"Rec\", rec, \"F1\", f1)"
   ]
  },
  {
   "cell_type": "markdown",
   "metadata": {},
   "source": [
    "Embeddings\n",
    "------------\n",
    "\n",
    "Finally, we explore using word embeddings. This problem is too small for meaningful embeddings so we don't expect them to be very useful here."
   ]
  },
  {
   "cell_type": "code",
   "execution_count": 37,
   "metadata": {},
   "outputs": [
    {
     "name": "stdout",
     "output_type": "stream",
     "text": [
      "Trained  5486  embeddings\n",
      "[-0.5229744  -0.21847232 -0.35564885 -0.16526495  0.45997262  0.29393923\n",
      " -0.5376894   0.54118633  0.0292453  -0.6457027  -0.1534511   1.1785138\n",
      "  0.6714278   0.4359652  -0.49339753  0.02450508  0.42765817  0.15296589\n",
      "  0.03801096  0.15570013 -0.08122989  0.00431026  0.05533981  0.43047762\n",
      " -0.01900061  0.47528225  0.5498024  -0.00958453 -0.22836466 -0.63730276\n",
      " -0.53564155 -0.00971194 -0.21903953  0.10280292  0.48883933 -0.09598901\n",
      "  0.36961237  0.05555241 -0.41219378  0.46536338  0.12845391 -0.4810625\n",
      "  0.0381239  -0.13914423 -0.18192784  0.57800204  0.09995428  0.04612964\n",
      " -0.35730937  1.1358429 ]\n"
     ]
    }
   ],
   "source": [
    "import gensim\n",
    "\n",
    "embedding_size = 50\n",
    "model = gensim.models.Word2Vec(tokenized_train_docs, size=embedding_size)\n",
    "tok2vec = dict(zip(model.wv.index2word, model.wv.vectors))\n",
    "\n",
    "print(\"Trained \", len(tok2vec), \" embeddings\")\n",
    "print(tok2vec['Bayesian'])"
   ]
  },
  {
   "cell_type": "code",
   "execution_count": 38,
   "metadata": {},
   "outputs": [],
   "source": [
    "from sklearn.manifold import TSNE\n",
    "\n",
    "labels = []\n",
    "tokens = []\n",
    "for word in model.wv.vocab:\n",
    "    tokens.append(model.wv[word])\n",
    "    labels.append(word)\n",
    "# 2500 iter is better\n",
    "tsne_model = TSNE(perplexity=40, n_components=2, init='pca', n_iter=500, random_state=23)\n",
    "new_values = tsne_model.fit_transform(tokens)"
   ]
  },
  {
   "cell_type": "code",
   "execution_count": 39,
   "metadata": {},
   "outputs": [
    {
     "data": {
      "image/png": "[encoded data removed]",
      "text/plain": [
       "<Figure size 432x288 with 1 Axes>"
      ]
     },
     "metadata": {},
     "output_type": "display_data"
    }
   ],
   "source": [
    "x = []\n",
    "y = []\n",
    "for value in new_values:\n",
    "    x.append(value[0])\n",
    "    y.append(value[1])\n",
    "\n",
    "plt.figure()\n",
    "for i in range(min(100,len(x))):\n",
    "        plt.scatter(x[i],y[i])\n",
    "        plt.annotate(labels[i], xy=(x[i], y[i]), xytext=(5, 2), textcoords='offset points', ha='right', va='bottom')"
   ]
  },
  {
   "cell_type": "markdown",
   "metadata": {},
   "source": [
    "To use these embeddings, we take the average embedding for the whole document. We can also take the maximum and minimum for each coordinate, over all entries in the document."
   ]
  },
  {
   "cell_type": "code",
   "execution_count": 40,
   "metadata": {},
   "outputs": [
    {
     "name": "stdout",
     "output_type": "stream",
     "text": [
      "[-0.31017736 -0.05628745  0.04742325 -0.22510795  0.10406617  0.35315272\n",
      " -0.5089115   0.21923469  0.11479017 -0.5114196  -0.00333385  0.6889952\n",
      "  0.37617916  0.14917326 -0.6583154   0.34439927  0.3346753  -0.09024151\n",
      "  0.05221294  0.06618482  0.13271913 -0.18265156  0.09730843  0.39782932\n",
      " -0.12373362  0.3511535   0.5043209  -0.08916581 -0.2657536  -0.66926026\n",
      " -0.6225683   0.13690093 -0.15283431 -0.11721498  0.7520093  -0.4382247\n",
      "  0.34341082 -0.06496616 -0.49672255  0.39399573 -0.09052978 -0.42016673\n",
      " -0.21905951 -0.05216491 -0.06417383  0.31847614 -0.21432951  0.05036538\n",
      " -0.41903922  0.7238658 ]\n",
      "[CORR Embed on DevTest] Prec  [0.95441176 0.        ] Rec [1. 0.] F1 [0.97667419 0.        ]\n",
      "[ML Embed on DevTest] Prec  [0.95441176 0.        ] Rec [1. 0.] F1 [0.97667419 0.        ]\n"
     ]
    },
    {
     "name": "stderr",
     "output_type": "stream",
     "text": [
      "/home/juan/proyectos/feateng/lib/python3.6/site-packages/sklearn/metrics/classification.py:1135: UndefinedMetricWarning: Precision and F-score are ill-defined and being set to 0.0 in labels with no predicted samples.\n",
      "  'precision', 'predicted', average, warn_for)\n"
     ]
    }
   ],
   "source": [
    "xtrain_embed = np.zeros((len(train_docs), embedding_size), dtype='float32')\n",
    "\n",
    "for idx, toks in enumerate(tokenized_train_docs):\n",
    "    good_toks = list(filter(lambda t:t in tok2vec, toks))\n",
    "    for tok in good_toks:\n",
    "        tok_vect_scaled = np.copy(tok2vec[tok])\n",
    "        tok_vect_scaled *= 1.0 / len(good_toks)\n",
    "        xtrain_embed[idx,:] += tok_vect_scaled\n",
    "\n",
    "print(xtrain_embed[0,:])\n",
    "\n",
    "clf_embed_corr = svm.SVC(kernel='rbf')\n",
    "clf_embed_corr.fit(xtrain_embed, ytrain_corr)\n",
    "\n",
    "clf_embed_ml = svm.SVC(kernel='rbf')\n",
    "clf_embed_ml.fit(xtrain_embed, ytrain_ml)\n",
    "\n",
    "xdevtest_embed = np.zeros((len(devtest_docs), embedding_size), dtype='float32')\n",
    "\n",
    "for idx, toks in enumerate(tokenized_devtest_docs):\n",
    "    good_toks = list(filter(lambda t:t in tok2vec, toks))\n",
    "    for tok in good_toks:\n",
    "        tok_vect_scaled = np.copy(tok2vec[tok])\n",
    "        tok_vect_scaled *= 1.0 / len(good_toks)\n",
    "        xdevtest_embed[idx,:] += tok_vect_scaled\n",
    "\n",
    "ydevtest_pred_embed_corr = clf_embed_corr.predict(xdevtest_embed)\n",
    "prec, rec, f1, _ = precision_recall_fscore_support(ydevtest_corr, ydevtest_pred_embed_corr)\n",
    "\n",
    "print(\"[CORR Embed on DevTest] Prec \", prec, \"Rec\", rec, \"F1\", f1)\n",
    "\n",
    "ydevtest_pred_embed_ml = clf_embed_ml.predict(xdevtest_embed)\n",
    "prec, rec, f1, _ = precision_recall_fscore_support(ydevtest_ml, ydevtest_pred_embed_ml)\n",
    "\n",
    "print(\"[ML Embed on DevTest] Prec \", prec, \"Rec\", rec, \"F1\", f1)"
   ]
  },
  {
   "cell_type": "markdown",
   "metadata": {},
   "source": [
    "Other topics:\n",
    "\n",
    "* SVD\n",
    "* Representing syntactic trees or at least Title / Body relationship"
   ]
  },
  {
   "cell_type": "markdown",
   "metadata": {},
   "source": [
    "# Respuestas comienzan aca\n",
    "\n",
    "## Hipótesis\n",
    "\n",
    "- Voy a probar como modelo optimo un [SVC](http://scikit-learn.org/stable/modules/generated/sklearn.svm.SVC.html). con kernel polynomico, Realmente no creo que se logre mejoras.\n",
    "- Comence a utilizar justo donde se quedaron los features anteriores.\n",
    "- Pense en filtrar datos agregando una serie de features random. Pero al parecer toda la clasificacion se da solamente por un feature (columna 9 (o 8 si contamos de 0))."
   ]
  },
  {
   "cell_type": "code",
   "execution_count": 51,
   "metadata": {},
   "outputs": [
    {
     "name": "stdout",
     "output_type": "stream",
     "text": [
      "[-0.31017736 -0.05628745  0.04742325 -0.22510795  0.10406617  0.35315272\n",
      " -0.5089115   0.21923469  0.11479017 -0.5114196  -0.00333385  0.6889952\n",
      "  0.37617916  0.14917326 -0.6583154   0.34439927  0.3346753  -0.09024151\n",
      "  0.05221294  0.06618482  0.13271913 -0.18265156  0.09730843  0.39782932\n",
      " -0.12373362  0.3511535   0.5043209  -0.08916581 -0.2657536  -0.66926026\n",
      " -0.6225683   0.13690093 -0.15283431 -0.11721498  0.7520093  -0.4382247\n",
      "  0.34341082 -0.06496616 -0.49672255  0.39399573 -0.09052978 -0.42016673\n",
      " -0.21905951 -0.05216491 -0.06417383  0.31847614 -0.21432951  0.05036538\n",
      " -0.41903922  0.7238658 ]\n",
      "[CORR Embed on DevTest] Prec  [0.95441176 0.        ] Rec [1. 0.] F1 [0.97667419 0.        ]\n",
      "[ML Embed on DevTest] Prec  [0.95441176 0.        ] Rec [1. 0.] F1 [0.97667419 0.        ]\n"
     ]
    },
    {
     "name": "stderr",
     "output_type": "stream",
     "text": [
      "/home/juan/proyectos/feateng/lib/python3.6/site-packages/sklearn/metrics/classification.py:1135: UndefinedMetricWarning: Precision and F-score are ill-defined and being set to 0.0 in labels with no predicted samples.\n",
      "  'precision', 'predicted', average, warn_for)\n"
     ]
    }
   ],
   "source": [
    "xtrain_embed = np.zeros((len(train_docs), embedding_size), dtype='float32')\n",
    "\n",
    "for idx, toks in enumerate(tokenized_train_docs):\n",
    "    good_toks = list(filter(lambda t:t in tok2vec, toks))\n",
    "    for tok in good_toks:\n",
    "        tok_vect_scaled = np.copy(tok2vec[tok])\n",
    "        tok_vect_scaled *= 1.0 / len(good_toks)\n",
    "        xtrain_embed[idx,:] += tok_vect_scaled\n",
    "\n",
    "print(xtrain_embed[0,:])\n",
    "\n",
    "clf_embed_corr = svm.SVC(kernel='poly')\n",
    "clf_embed_corr.fit(xtrain_embed, ytrain_corr)\n",
    "\n",
    "clf_embed_ml = svm.SVC(kernel='poly')\n",
    "clf_embed_ml.fit(xtrain_embed, ytrain_ml)\n",
    "\n",
    "xdevtest_embed = np.zeros((len(devtest_docs), embedding_size), dtype='float32')\n",
    "\n",
    "for idx, toks in enumerate(tokenized_devtest_docs):\n",
    "    good_toks = list(filter(lambda t:t in tok2vec, toks))\n",
    "    for tok in good_toks:\n",
    "        tok_vect_scaled = np.copy(tok2vec[tok])\n",
    "        tok_vect_scaled *= 1.0 / len(good_toks)\n",
    "        xdevtest_embed[idx,:] += tok_vect_scaled\n",
    "\n",
    "ydevtest_pred_embed_corr = clf_embed_corr.predict(xdevtest_embed)\n",
    "prec, rec, f1, _ = precision_recall_fscore_support(ydevtest_corr, ydevtest_pred_embed_corr)\n",
    "\n",
    "print(\"[CORR Embed on DevTest] Prec \", prec, \"Rec\", rec, \"F1\", f1)\n",
    "\n",
    "ydevtest_pred_embed_ml = clf_embed_ml.predict(xdevtest_embed)\n",
    "prec, rec, f1, _ = precision_recall_fscore_support(ydevtest_ml, ydevtest_pred_embed_ml)\n",
    "\n",
    "print(\"[ML Embed on DevTest] Prec \", prec, \"Rec\", rec, \"F1\", f1)"
   ]
  },
  {
   "cell_type": "markdown",
   "metadata": {},
   "source": [
    "## Feature selection"
   ]
  },
  {
   "cell_type": "code",
   "execution_count": 59,
   "metadata": {},
   "outputs": [],
   "source": [
    "from sklearn import feature_selection as fe"
   ]
  },
  {
   "cell_type": "code",
   "execution_count": 110,
   "metadata": {},
   "outputs": [],
   "source": [
    "vt = fe.VarianceThreshold(0.053).fit(xtrain_embed)\n",
    "flt_train = vt.transform(xtrain_embed)\n",
    "flt_test = vt.transform(xdevtest_embed)"
   ]
  },
  {
   "cell_type": "code",
   "execution_count": 111,
   "metadata": {},
   "outputs": [
    {
     "data": {
      "text/plain": [
       "array([0.02718188, 0.05049046, 0.00881962, 0.0100333 , 0.01967248,\n",
       "       0.04671802, 0.04727959, 0.03691017, 0.05329538, 0.02203938,\n",
       "       0.02537642, 0.03102347, 0.01748368, 0.01896288, 0.02021829,\n",
       "       0.02633694, 0.00547984, 0.02463688, 0.01808461, 0.01831232,\n",
       "       0.00943381, 0.01914003, 0.0252544 , 0.00884287, 0.00932604,\n",
       "       0.04795623, 0.0157909 , 0.00994075, 0.01187072, 0.01429155,\n",
       "       0.01795288, 0.01039362, 0.00724245, 0.01605798, 0.04047846,\n",
       "       0.03207129, 0.00746386, 0.01466794, 0.01049367, 0.01746001,\n",
       "       0.00890545, 0.01098153, 0.01319398, 0.01122363, 0.01084503,\n",
       "       0.00736291, 0.02217276, 0.01619025, 0.01784013, 0.01362799])"
      ]
     },
     "execution_count": 111,
     "metadata": {},
     "output_type": "execute_result"
    }
   ],
   "source": [
    "vt.variances_"
   ]
  },
  {
   "cell_type": "code",
   "execution_count": 97,
   "metadata": {},
   "outputs": [
    {
     "data": {
      "text/plain": [
       "SVC(C=1.0, cache_size=200, class_weight=None, coef0=0.0,\n",
       "  decision_function_shape='ovr', degree=3, gamma='auto', kernel='poly',\n",
       "  max_iter=-1, probability=False, random_state=None, shrinking=True,\n",
       "  tol=0.001, verbose=False)"
      ]
     },
     "execution_count": 97,
     "metadata": {},
     "output_type": "execute_result"
    }
   ],
   "source": [
    "clf_embed_corr = svm.SVC(kernel='poly')\n",
    "clf_embed_corr.fit(flt_train, ytrain_corr)\n",
    "\n",
    "clf_embed_ml = svm.SVC(kernel='poly')\n",
    "clf_embed_ml.fit(flt_train, ytrain_ml)"
   ]
  },
  {
   "cell_type": "code",
   "execution_count": 98,
   "metadata": {},
   "outputs": [
    {
     "name": "stdout",
     "output_type": "stream",
     "text": [
      "[CORR Embed on DevTest] Prec  [0.95441176 0.        ] Rec [1. 0.] F1 [0.97667419 0.        ]\n",
      "[ML Embed on DevTest] Prec  [0.95441176 0.        ] Rec [1. 0.] F1 [0.97667419 0.        ]\n"
     ]
    },
    {
     "name": "stderr",
     "output_type": "stream",
     "text": [
      "/home/juan/proyectos/feateng/lib/python3.6/site-packages/sklearn/metrics/classification.py:1135: UndefinedMetricWarning: Precision and F-score are ill-defined and being set to 0.0 in labels with no predicted samples.\n",
      "  'precision', 'predicted', average, warn_for)\n"
     ]
    }
   ],
   "source": [
    "ydevtest_pred_embed_corr = clf_embed_corr.predict(flt_test)\n",
    "prec, rec, f1, _ = precision_recall_fscore_support(ydevtest_corr, ydevtest_pred_embed_corr)\n",
    "\n",
    "print(\"[CORR Embed on DevTest] Prec \", prec, \"Rec\", rec, \"F1\", f1)\n",
    "\n",
    "ydevtest_pred_embed_ml = clf_embed_ml.predict(flt_test)\n",
    "prec, rec, f1, _ = precision_recall_fscore_support(ydevtest_ml, ydevtest_pred_embed_ml)\n",
    "\n",
    "print(\"[ML Embed on DevTest] Prec \", prec, \"Rec\", rec, \"F1\", f1)"
   ]
  },
  {
   "cell_type": "code",
   "execution_count": null,
   "metadata": {},
   "outputs": [],
   "source": []
  }
 ],
 "metadata": {
  "kernelspec": {
   "display_name": "Python 3",
   "language": "python",
   "name": "python3"
  },
  "language_info": {
   "codemirror_mode": {
    "name": "ipython",
    "version": 3
   },
   "file_extension": ".py",
   "mimetype": "text/x-python",
   "name": "python",
   "nbconvert_exporter": "python",
   "pygments_lexer": "ipython3",
   "version": "3.6.4"
  }
 },
 "nbformat": 4,
 "nbformat_minor": 2
}
